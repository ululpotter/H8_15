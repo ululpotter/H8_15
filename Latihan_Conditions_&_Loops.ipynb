{
  "cells": [
    {
      "cell_type": "code",
      "execution_count": 1,
      "metadata": {
        "id": "DdF39hV9pntH"
      },
      "outputs": [
        {
          "data": {
            "text/plain": [
              "True"
            ]
          },
          "execution_count": 1,
          "metadata": {},
          "output_type": "execute_result"
        }
      ],
      "source": [
        "a= 20\n",
        "a== 20"
      ]
    },
    {
      "cell_type": "markdown",
      "metadata": {},
      "source": [
        "# Conditional IF"
      ]
    },
    {
      "cell_type": "code",
      "execution_count": 2,
      "metadata": {},
      "outputs": [
        {
          "name": "stdout",
          "output_type": "stream",
          "text": [
            "10 adalah 10\n"
          ]
        }
      ],
      "source": [
        "angka= 10\n",
        "if angka > 10:\n",
        "    print(f'{angka} di atas 10')\n",
        "elif angka < 10:\n",
        "    print(f'{angka} di bawah 10')\n",
        "else:\n",
        "    print(f'{angka} adalah 10')\n",
        "\n",
        "#jika lebih dari 3 kondisi tambahkan elif\n",
        "#hanya ada 1 if dan 1 else saja dalam setiap kondisi"
      ]
    },
    {
      "cell_type": "markdown",
      "metadata": {},
      "source": [
        "# mengecek bilangan genap/ganjil dengan IF"
      ]
    },
    {
      "cell_type": "code",
      "execution_count": 3,
      "metadata": {},
      "outputs": [
        {
          "name": "stdout",
          "output_type": "stream",
          "text": [
            "20 adalah bilang genap\n"
          ]
        }
      ],
      "source": [
        "angka = 20\n",
        "if(angka % 2 == 0):\n",
        "    print(f'{angka} adalah bilang genap')\n",
        "else:\n",
        "    print(f'{angka} adalah bilang ganjil')"
      ]
    },
    {
      "cell_type": "code",
      "execution_count": 13,
      "metadata": {},
      "outputs": [
        {
          "name": "stdout",
          "output_type": "stream",
          "text": [
            "Grade A\n"
          ]
        }
      ],
      "source": [
        "#LATIHAN\n",
        "nilai = 90\n",
        "if nilai >= 80:\n",
        "    print('Grade A')\n",
        "elif nilai >= 70:\n",
        "    print('Grade B')\n",
        "elif nilai >= 60:\n",
        "    print('Grade C')\n",
        "elif nilai >= 40:\n",
        "    print('Grade D')\n",
        "else:\n",
        "    print('Grade E')"
      ]
    },
    {
      "cell_type": "code",
      "execution_count": 20,
      "metadata": {},
      "outputs": [
        {
          "name": "stdout",
          "output_type": "stream",
          "text": [
            "Grade A\n"
          ]
        }
      ],
      "source": [
        "#nested if\n",
        "nilai = 100\n",
        "if 0 <= nilai <= 100:\n",
        "    if nilai >= 80:\n",
        "        print('Grade A')\n",
        "    elif nilai >= 70:\n",
        "        print('Grade B')\n",
        "    elif nilai >= 60:\n",
        "        print('Grade C')\n",
        "    elif nilai >= 40:\n",
        "        print('Grade D')\n",
        "    else:\n",
        "        print('Grade E')\n",
        "else:\n",
        "    print('inputkan nilai yang benar')"
      ]
    },
    {
      "cell_type": "code",
      "execution_count": 21,
      "metadata": {},
      "outputs": [
        {
          "name": "stdout",
          "output_type": "stream",
          "text": [
            "210\n"
          ]
        }
      ],
      "source": [
        "a= 210\n",
        "b= 30\n",
        "if a > b:\n",
        "    print(a)\n",
        "else:\n",
        "    print(b)\n"
      ]
    },
    {
      "cell_type": "code",
      "execution_count": 22,
      "metadata": {},
      "outputs": [
        {
          "name": "stdout",
          "output_type": "stream",
          "text": [
            "=\n"
          ]
        }
      ],
      "source": [
        "a= 30\n",
        "b= 30\n",
        "if a>b:\n",
        "    print(a)\n",
        "elif a==b:\n",
        "    print('=')\n",
        "else:\n",
        "    print(b)"
      ]
    },
    {
      "cell_type": "code",
      "execution_count": 23,
      "metadata": {},
      "outputs": [
        {
          "name": "stdout",
          "output_type": "stream",
          "text": [
            "200\n"
          ]
        }
      ],
      "source": [
        "a= 200\n",
        "b= 33\n",
        "c= 100\n",
        "if b<a>c:\n",
        "    print(a)\n",
        "else:\n",
        "    print(c)"
      ]
    },
    {
      "cell_type": "markdown",
      "metadata": {},
      "source": [
        "# Looping"
      ]
    },
    {
      "cell_type": "code",
      "execution_count": 31,
      "metadata": {},
      "outputs": [
        {
          "name": "stdout",
          "output_type": "stream",
          "text": [
            "0\n",
            "1\n",
            "2\n",
            "3\n",
            "4\n"
          ]
        }
      ],
      "source": [
        "#while loop\n",
        "i = 0\n",
        "while i <5:\n",
        "    print(i)\n",
        "    i = i + 1"
      ]
    },
    {
      "cell_type": "code",
      "execution_count": 34,
      "metadata": {},
      "outputs": [
        {
          "name": "stdout",
          "output_type": "stream",
          "text": [
            "5 x 5 = 25\n",
            "5 x 6 = 30\n",
            "5 x 7 = 35\n",
            "5 x 8 = 40\n",
            "5 x 9 = 45\n",
            "5 x 10 = 50\n"
          ]
        }
      ],
      "source": [
        "#tabel perkalian menggunakan while loop\n",
        "\n",
        "i = 5\n",
        "while i <= 10:\n",
        "    print(f'5 x {i} = {5*i}')\n",
        "    i = i + 1"
      ]
    },
    {
      "cell_type": "code",
      "execution_count": 1,
      "metadata": {},
      "outputs": [
        {
          "name": "stdout",
          "output_type": "stream",
          "text": [
            "1 x 1 = 1\n",
            "1 x 2 = 2\n",
            "1 x 3 = 3\n",
            "1 x 4 = 4\n",
            "1 x 5 = 5\n",
            "1 x 6 = 6\n",
            "1 x 7 = 7\n",
            "1 x 8 = 8\n",
            "1 x 9 = 9\n",
            "1 x 10 = 10\n",
            "----------\n",
            "2 x 1 = 2\n",
            "2 x 2 = 4\n",
            "2 x 3 = 6\n",
            "2 x 4 = 8\n",
            "2 x 5 = 10\n",
            "2 x 6 = 12\n",
            "2 x 7 = 14\n",
            "2 x 8 = 16\n",
            "2 x 9 = 18\n",
            "2 x 10 = 20\n",
            "----------\n",
            "3 x 1 = 3\n",
            "3 x 2 = 6\n",
            "3 x 3 = 9\n",
            "3 x 4 = 12\n",
            "3 x 5 = 15\n",
            "3 x 6 = 18\n",
            "3 x 7 = 21\n",
            "3 x 8 = 24\n",
            "3 x 9 = 27\n",
            "3 x 10 = 30\n",
            "----------\n",
            "4 x 1 = 4\n",
            "4 x 2 = 8\n",
            "4 x 3 = 12\n",
            "4 x 4 = 16\n",
            "4 x 5 = 20\n",
            "4 x 6 = 24\n",
            "4 x 7 = 28\n",
            "4 x 8 = 32\n",
            "4 x 9 = 36\n",
            "4 x 10 = 40\n",
            "----------\n",
            "5 x 1 = 5\n",
            "5 x 2 = 10\n",
            "5 x 3 = 15\n",
            "5 x 4 = 20\n",
            "5 x 5 = 25\n",
            "5 x 6 = 30\n",
            "5 x 7 = 35\n",
            "5 x 8 = 40\n",
            "5 x 9 = 45\n",
            "5 x 10 = 50\n",
            "----------\n",
            "6 x 1 = 6\n",
            "6 x 2 = 12\n",
            "6 x 3 = 18\n",
            "6 x 4 = 24\n",
            "6 x 5 = 30\n",
            "6 x 6 = 36\n",
            "6 x 7 = 42\n",
            "6 x 8 = 48\n",
            "6 x 9 = 54\n",
            "6 x 10 = 60\n",
            "----------\n",
            "7 x 1 = 7\n",
            "7 x 2 = 14\n",
            "7 x 3 = 21\n",
            "7 x 4 = 28\n",
            "7 x 5 = 35\n",
            "7 x 6 = 42\n",
            "7 x 7 = 49\n",
            "7 x 8 = 56\n",
            "7 x 9 = 63\n",
            "7 x 10 = 70\n",
            "----------\n",
            "8 x 1 = 8\n",
            "8 x 2 = 16\n",
            "8 x 3 = 24\n",
            "8 x 4 = 32\n",
            "8 x 5 = 40\n",
            "8 x 6 = 48\n",
            "8 x 7 = 56\n",
            "8 x 8 = 64\n",
            "8 x 9 = 72\n",
            "8 x 10 = 80\n",
            "----------\n",
            "9 x 1 = 9\n",
            "9 x 2 = 18\n",
            "9 x 3 = 27\n",
            "9 x 4 = 36\n",
            "9 x 5 = 45\n",
            "9 x 6 = 54\n",
            "9 x 7 = 63\n",
            "9 x 8 = 72\n",
            "9 x 9 = 81\n",
            "9 x 10 = 90\n",
            "----------\n",
            "10 x 1 = 10\n",
            "10 x 2 = 20\n",
            "10 x 3 = 30\n",
            "10 x 4 = 40\n",
            "10 x 5 = 50\n",
            "10 x 6 = 60\n",
            "10 x 7 = 70\n",
            "10 x 8 = 80\n",
            "10 x 9 = 90\n",
            "10 x 10 = 100\n",
            "----------\n"
          ]
        }
      ],
      "source": [
        "# nestel while\n",
        "i = 1\n",
        "j = 1\n",
        "while i <= 10:\n",
        "    while j <= 10:\n",
        "        print(f'{i} x {j} = {i*j}')\n",
        "        j = j + 1\n",
        "    print('-'*10)\n",
        "    i+=1\n",
        "    j = 1"
      ]
    },
    {
      "cell_type": "code",
      "execution_count": 4,
      "metadata": {},
      "outputs": [
        {
          "name": "stdout",
          "output_type": "stream",
          "text": [
            "tokyo\n",
            "jakarta\n",
            "surabaya\n",
            "bandung\n"
          ]
        }
      ],
      "source": [
        "#for loop\n",
        "cities = ['tokyo', 'jakarta', 'surabaya', 'bandung']\n",
        "for i in cities:\n",
        "    print(i)"
      ]
    },
    {
      "cell_type": "code",
      "execution_count": 5,
      "metadata": {},
      "outputs": [
        {
          "name": "stdout",
          "output_type": "stream",
          "text": [
            "tokyo\n",
            "jakarta\n",
            "surabaya\n",
            "bandung\n"
          ]
        }
      ],
      "source": [
        "i = 0\n",
        "while i < len(cities):\n",
        "    print(cities[i])\n",
        "    i+=1"
      ]
    },
    {
      "cell_type": "code",
      "execution_count": 7,
      "metadata": {},
      "outputs": [
        {
          "data": {
            "text/plain": [
              "[1, 2, 3, 4, 5, 6, 7, 8, 9, 10]"
            ]
          },
          "execution_count": 7,
          "metadata": {},
          "output_type": "execute_result"
        }
      ],
      "source": [
        "list(range(1,11))"
      ]
    },
    {
      "cell_type": "code",
      "execution_count": 15,
      "metadata": {},
      "outputs": [
        {
          "name": "stdout",
          "output_type": "stream",
          "text": [
            "5 x 1 = 5\n",
            "5 x 2 = 10\n",
            "5 x 3 = 15\n",
            "5 x 4 = 20\n",
            "5 x 5 = 25\n",
            "5 x 6 = 30\n",
            "5 x 7 = 35\n",
            "5 x 8 = 40\n",
            "5 x 9 = 45\n",
            "5 x 10 = 50\n",
            "----------\n"
          ]
        }
      ],
      "source": [
        "#fot .. in range ..\n",
        "\n",
        "for i in range(1,11):\n",
        "    print(f'5 x {i} = {5*i}')\n",
        "print('-'*10)"
      ]
    },
    {
      "cell_type": "code",
      "execution_count": 16,
      "metadata": {},
      "outputs": [
        {
          "name": "stdout",
          "output_type": "stream",
          "text": [
            "1 x 1 = 1\n",
            "1 x 2 = 2\n",
            "1 x 3 = 3\n",
            "1 x 4 = 4\n",
            "1 x 5 = 5\n",
            "1 x 6 = 6\n",
            "1 x 7 = 7\n",
            "1 x 8 = 8\n",
            "1 x 9 = 9\n",
            "1 x 10 = 10\n",
            "----------\n",
            "2 x 1 = 2\n",
            "2 x 2 = 4\n",
            "2 x 3 = 6\n",
            "2 x 4 = 8\n",
            "2 x 5 = 10\n",
            "2 x 6 = 12\n",
            "2 x 7 = 14\n",
            "2 x 8 = 16\n",
            "2 x 9 = 18\n",
            "2 x 10 = 20\n",
            "----------\n",
            "3 x 1 = 3\n",
            "3 x 2 = 6\n",
            "3 x 3 = 9\n",
            "3 x 4 = 12\n",
            "3 x 5 = 15\n",
            "3 x 6 = 18\n",
            "3 x 7 = 21\n",
            "3 x 8 = 24\n",
            "3 x 9 = 27\n",
            "3 x 10 = 30\n",
            "----------\n",
            "4 x 1 = 4\n",
            "4 x 2 = 8\n",
            "4 x 3 = 12\n",
            "4 x 4 = 16\n",
            "4 x 5 = 20\n",
            "4 x 6 = 24\n",
            "4 x 7 = 28\n",
            "4 x 8 = 32\n",
            "4 x 9 = 36\n",
            "4 x 10 = 40\n",
            "----------\n",
            "5 x 1 = 5\n",
            "5 x 2 = 10\n",
            "5 x 3 = 15\n",
            "5 x 4 = 20\n",
            "5 x 5 = 25\n",
            "5 x 6 = 30\n",
            "5 x 7 = 35\n",
            "5 x 8 = 40\n",
            "5 x 9 = 45\n",
            "5 x 10 = 50\n",
            "----------\n",
            "6 x 1 = 6\n",
            "6 x 2 = 12\n",
            "6 x 3 = 18\n",
            "6 x 4 = 24\n",
            "6 x 5 = 30\n",
            "6 x 6 = 36\n",
            "6 x 7 = 42\n",
            "6 x 8 = 48\n",
            "6 x 9 = 54\n",
            "6 x 10 = 60\n",
            "----------\n",
            "7 x 1 = 7\n",
            "7 x 2 = 14\n",
            "7 x 3 = 21\n",
            "7 x 4 = 28\n",
            "7 x 5 = 35\n",
            "7 x 6 = 42\n",
            "7 x 7 = 49\n",
            "7 x 8 = 56\n",
            "7 x 9 = 63\n",
            "7 x 10 = 70\n",
            "----------\n",
            "8 x 1 = 8\n",
            "8 x 2 = 16\n",
            "8 x 3 = 24\n",
            "8 x 4 = 32\n",
            "8 x 5 = 40\n",
            "8 x 6 = 48\n",
            "8 x 7 = 56\n",
            "8 x 8 = 64\n",
            "8 x 9 = 72\n",
            "8 x 10 = 80\n",
            "----------\n",
            "9 x 1 = 9\n",
            "9 x 2 = 18\n",
            "9 x 3 = 27\n",
            "9 x 4 = 36\n",
            "9 x 5 = 45\n",
            "9 x 6 = 54\n",
            "9 x 7 = 63\n",
            "9 x 8 = 72\n",
            "9 x 9 = 81\n",
            "9 x 10 = 90\n",
            "----------\n",
            "10 x 1 = 10\n",
            "10 x 2 = 20\n",
            "10 x 3 = 30\n",
            "10 x 4 = 40\n",
            "10 x 5 = 50\n",
            "10 x 6 = 60\n",
            "10 x 7 = 70\n",
            "10 x 8 = 80\n",
            "10 x 9 = 90\n",
            "10 x 10 = 100\n",
            "----------\n"
          ]
        }
      ],
      "source": [
        "#nestep for\n",
        "for i in range(1,11):\n",
        "    for j in range(1,11):\n",
        "        print(f'{i} x {j} = {i*j}')\n",
        "    print('-'*10)"
      ]
    },
    {
      "cell_type": "markdown",
      "metadata": {},
      "source": [
        "# Flow Control statement\n",
        "- Continue\n",
        "- Break\n",
        "- Pass"
      ]
    },
    {
      "cell_type": "code",
      "execution_count": 18,
      "metadata": {},
      "outputs": [
        {
          "name": "stdout",
          "output_type": "stream",
          "text": [
            "0\n",
            "1\n",
            "3\n",
            "4\n",
            "6\n",
            "8\n",
            "9\n",
            "10\n"
          ]
        }
      ],
      "source": [
        "#continue (melewatkan angka yang di tentukan)\n",
        "for i in range(0,11):\n",
        "    if (i in [2,5,7]):\n",
        "        continue\n",
        "    print(i)"
      ]
    },
    {
      "cell_type": "code",
      "execution_count": 19,
      "metadata": {},
      "outputs": [
        {
          "name": "stdout",
          "output_type": "stream",
          "text": [
            "0\n",
            "1\n"
          ]
        }
      ],
      "source": [
        "#break (akan berhenti jika menemukan data yg di tentukan)\n",
        "for i in range(0,11):\n",
        "    if (i in [2,5,7]):\n",
        "        break\n",
        "    print(i)"
      ]
    },
    {
      "cell_type": "code",
      "execution_count": 22,
      "metadata": {},
      "outputs": [],
      "source": [
        "#pass (melewatkan jika ada error pada kondisi tertentu)\n",
        "nilai = -1\n",
        "if 0 <= nilai <= 100:\n",
        "    if nilai >= 80:\n",
        "        print('Grade A')\n",
        "    elif nilai >= 70:\n",
        "        print('Grade B')\n",
        "    elif nilai >= 60:\n",
        "        print('Grade C')\n",
        "    elif nilai >= 40:\n",
        "        print('Grade D')\n",
        "    else:\n",
        "        print('Grade E')\n",
        "pass"
      ]
    }
  ],
  "metadata": {
    "colab": {
      "name": "Latihan_Conditions_&_Loops.ipynb",
      "provenance": []
    },
    "kernelspec": {
      "display_name": "Python 3.10.6 64-bit",
      "language": "python",
      "name": "python3"
    },
    "language_info": {
      "codemirror_mode": {
        "name": "ipython",
        "version": 3
      },
      "file_extension": ".py",
      "mimetype": "text/x-python",
      "name": "python",
      "nbconvert_exporter": "python",
      "pygments_lexer": "ipython3",
      "version": "3.10.6"
    },
    "vscode": {
      "interpreter": {
        "hash": "afb734500600fd355917ca529030176ea0ca205570884b88f2f6f7d791fd3fbe"
      }
    }
  },
  "nbformat": 4,
  "nbformat_minor": 0
}
