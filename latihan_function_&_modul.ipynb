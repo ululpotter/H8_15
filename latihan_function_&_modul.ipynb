{
 "cells": [
  {
   "cell_type": "code",
   "execution_count": 10,
   "metadata": {},
   "outputs": [],
   "source": [
    "def sapa(nama, umur):\n",
    "    print(f'halo nama saya {nama} dan umur saya {umur}')"
   ]
  },
  {
   "cell_type": "code",
   "execution_count": 18,
   "metadata": {},
   "outputs": [
    {
     "name": "stdout",
     "output_type": "stream",
     "text": [
      "halo nama saya ulul\n"
     ]
    }
   ],
   "source": [
    "sapa(nama= 'ulul')"
   ]
  },
  {
   "cell_type": "code",
   "execution_count": 24,
   "metadata": {},
   "outputs": [
    {
     "name": "stdout",
     "output_type": "stream",
     "text": [
      "Siswa itu luar biasa\n"
     ]
    }
   ],
   "source": [
    "#Global Variabel\n",
    "x = 'luar biasa'\n",
    "def my_func():\n",
    "    print('Siswa itu', x)\n",
    "\n",
    "my_func()"
   ]
  },
  {
   "cell_type": "code",
   "execution_count": 25,
   "metadata": {},
   "outputs": [
    {
     "name": "stdout",
     "output_type": "stream",
     "text": [
      "Siswa itu cerdas\n"
     ]
    }
   ],
   "source": [
    "#jika ingin merubah variabel globalnya\n",
    "x = 'luar biasa'\n",
    "def my_func():\n",
    "    global x\n",
    "    x = 'cerdas'\n",
    "    print('Siswa itu', x)\n",
    "\n",
    "my_func()"
   ]
  },
  {
   "cell_type": "markdown",
   "metadata": {},
   "source": [
    "# Arbitrary Arguments\n",
    "- args(*)\n",
    "-"
   ]
  },
  {
   "cell_type": "code",
   "execution_count": 27,
   "metadata": {},
   "outputs": [
    {
     "name": "stdout",
     "output_type": "stream",
     "text": [
      "ammar\n"
     ]
    }
   ],
   "source": [
    "def func1(nama):\n",
    "    print(nama)\n",
    "func1('ammar')"
   ]
  },
  {
   "cell_type": "code",
   "execution_count": 26,
   "metadata": {},
   "outputs": [
    {
     "name": "stdout",
     "output_type": "stream",
     "text": [
      "('ammar', 'dhila', 'adli')\n"
     ]
    }
   ],
   "source": [
    "#args (*)\n",
    "def func(*nama):\n",
    "    print(nama)\n",
    "\n",
    "func('ammar','dhila','adli')"
   ]
  },
  {
   "cell_type": "code",
   "execution_count": 28,
   "metadata": {},
   "outputs": [
    {
     "name": "stdout",
     "output_type": "stream",
     "text": [
      "89.6\n"
     ]
    }
   ],
   "source": [
    "#latihan\n",
    "def convert(fahr):\n",
    "    cels = fahr * 1.8 + 32.0\n",
    "    return cels\n",
    "print(convert(32))"
   ]
  },
  {
   "cell_type": "code",
   "execution_count": 33,
   "metadata": {},
   "outputs": [
    {
     "name": "stdout",
     "output_type": "stream",
     "text": [
      "Temperature in celcius(C) = [89.6, (-253, 15)]\n"
     ]
    }
   ],
   "source": [
    "def convert(fahr,kelv):\n",
    "    cels = fahr * 1.8 + 32.0\n",
    "    cels2 = kelv -273,15\n",
    "    return [cels,cels2]\n",
    "print('Temperature in celcius(C) =', convert(32,20))\n",
    "\n"
   ]
  },
  {
   "cell_type": "markdown",
   "metadata": {},
   "source": [
    "# Modules"
   ]
  },
  {
   "cell_type": "code",
   "execution_count": 8,
   "metadata": {},
   "outputs": [],
   "source": [
    "import modultes1 as mt1"
   ]
  },
  {
   "cell_type": "code",
   "execution_count": 9,
   "metadata": {},
   "outputs": [
    {
     "name": "stdout",
     "output_type": "stream",
     "text": [
      "Halo, nama saya Ulul\n"
     ]
    }
   ],
   "source": [
    "mt1.greeting('Ulul')"
   ]
  },
  {
   "cell_type": "code",
   "execution_count": 14,
   "metadata": {},
   "outputs": [],
   "source": [
    "from modultes2 import person1"
   ]
  },
  {
   "cell_type": "code",
   "execution_count": 20,
   "metadata": {},
   "outputs": [
    {
     "data": {
      "text/plain": [
       "'Ulul'"
      ]
     },
     "execution_count": 20,
     "metadata": {},
     "output_type": "execute_result"
    }
   ],
   "source": [
    "person1['nama']"
   ]
  }
 ],
 "metadata": {
  "kernelspec": {
   "display_name": "Python 3.10.6 64-bit",
   "language": "python",
   "name": "python3"
  },
  "language_info": {
   "codemirror_mode": {
    "name": "ipython",
    "version": 3
   },
   "file_extension": ".py",
   "mimetype": "text/x-python",
   "name": "python",
   "nbconvert_exporter": "python",
   "pygments_lexer": "ipython3",
   "version": "3.10.6"
  },
  "orig_nbformat": 4,
  "vscode": {
   "interpreter": {
    "hash": "afb734500600fd355917ca529030176ea0ca205570884b88f2f6f7d791fd3fbe"
   }
  }
 },
 "nbformat": 4,
 "nbformat_minor": 2
}
