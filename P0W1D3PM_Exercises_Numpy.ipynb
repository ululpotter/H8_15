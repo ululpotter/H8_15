{
  "cells": [
    {
      "cell_type": "markdown",
      "metadata": {
        "id": "WYt_EwVgAEqU"
      },
      "source": [
        "# LATIHAN - P0W1D3PM : NUMPY"
      ]
    },
    {
      "cell_type": "code",
      "execution_count": 70,
      "metadata": {
        "id": "pmRk1shcKXxy"
      },
      "outputs": [],
      "source": [
        "#mengecek library numpy\n",
        "import numpy as np"
      ]
    },
    {
      "cell_type": "code",
      "execution_count": 71,
      "metadata": {
        "colab": {
          "base_uri": "https://localhost:8080/"
        },
        "id": "lllvgIkKKYaJ",
        "outputId": "31eadb25-9f11-42cf-88a8-27050594013f"
      },
      "outputs": [
        {
          "name": "stdout",
          "output_type": "stream",
          "text": [
            "[10, 20, 30] <class 'list'>\n"
          ]
        }
      ],
      "source": [
        "a = [10, 20, 30]\n",
        "print(a, type(a))"
      ]
    },
    {
      "cell_type": "code",
      "execution_count": 72,
      "metadata": {
        "colab": {
          "base_uri": "https://localhost:8080/"
        },
        "id": "i3R-3bKwKeTv",
        "outputId": "07b5d528-574c-4b1f-cedf-7f291e7edb28"
      },
      "outputs": [
        {
          "name": "stdout",
          "output_type": "stream",
          "text": [
            "[10 20 30] <class 'numpy.ndarray'>\n"
          ]
        }
      ],
      "source": [
        "a = np.array(a)\n",
        "print(a, type(a))"
      ]
    },
    {
      "cell_type": "markdown",
      "metadata": {
        "id": "tiybAoLEALZz"
      },
      "source": [
        "**NOMOR 1**\n",
        "\n",
        "Buatlah sebuah array seperti dibawah ini dan tambahkan setiap elemennya dengan `1`.\n",
        "\n",
        "```\n",
        "a = [10, 20, 30, 40, 50]\n",
        "```"
      ]
    },
    {
      "cell_type": "code",
      "execution_count": 5,
      "metadata": {
        "colab": {
          "base_uri": "https://localhost:8080/"
        },
        "id": "ONcaqN5W3v2X",
        "outputId": "fda959e4-056b-42b2-b4d0-9e9e75a8bb56"
      },
      "outputs": [
        {
          "data": {
            "text/plain": [
              "array([10, 20, 30, 40, 50])"
            ]
          },
          "execution_count": 5,
          "metadata": {},
          "output_type": "execute_result"
        }
      ],
      "source": [
        "a = [10, 20, 30, 40, 50]\n",
        "a= np.array(a)\n",
        "a"
      ]
    },
    {
      "cell_type": "code",
      "execution_count": 8,
      "metadata": {
        "colab": {
          "base_uri": "https://localhost:8080/"
        },
        "id": "iZvxC7pN3803",
        "outputId": "ba19f4ca-0572-4254-b945-a07541825441"
      },
      "outputs": [
        {
          "data": {
            "text/plain": [
              "array([11, 21, 31, 41, 51])"
            ]
          },
          "execution_count": 8,
          "metadata": {},
          "output_type": "execute_result"
        }
      ],
      "source": [
        "#cara 1 untuk menambahkan\n",
        "a + 1"
      ]
    },
    {
      "cell_type": "code",
      "execution_count": 12,
      "metadata": {
        "colab": {
          "base_uri": "https://localhost:8080/"
        },
        "id": "w2LiCRse4GDw",
        "outputId": "b66e1fba-ea49-4a83-a782-80940c3a0354"
      },
      "outputs": [
        {
          "data": {
            "text/plain": [
              "array([11., 21., 31., 41., 51.])"
            ]
          },
          "execution_count": 12,
          "metadata": {},
          "output_type": "execute_result"
        }
      ],
      "source": [
        "#cara 2 untuk menambahkan\n",
        "a + np.ones(5)"
      ]
    },
    {
      "cell_type": "markdown",
      "metadata": {
        "id": "j5svIAueA-at"
      },
      "source": [
        "**NOMOR 2**\n",
        "\n",
        "Buatlah sebuah array seperti dibawah ini dan keluarkan element yang bernilai negatif.\n",
        "\n",
        "```\n",
        "b = [-3, 0, -2, 1, 2, 3, -4]\n",
        "```"
      ]
    },
    {
      "cell_type": "code",
      "execution_count": 14,
      "metadata": {
        "colab": {
          "base_uri": "https://localhost:8080/"
        },
        "id": "hQMPlirE5AB6",
        "outputId": "c7ec5ef2-a49c-4deb-e1f3-8f0acbd9e2d6"
      },
      "outputs": [
        {
          "data": {
            "text/plain": [
              "array([-3,  0, -2,  1,  2,  3, -4])"
            ]
          },
          "execution_count": 14,
          "metadata": {},
          "output_type": "execute_result"
        }
      ],
      "source": [
        "b = [-3, 0, -2, 1, 2, 3, -4]\n",
        "b = np.array(b)\n",
        "b"
      ]
    },
    {
      "cell_type": "code",
      "execution_count": 15,
      "metadata": {
        "colab": {
          "base_uri": "https://localhost:8080/"
        },
        "id": "FV2u0g-s5RWD",
        "outputId": "e994896a-a148-469a-bfd5-ba93e48de75a"
      },
      "outputs": [
        {
          "data": {
            "text/plain": [
              "array([-3, -2, -4])"
            ]
          },
          "execution_count": 15,
          "metadata": {},
          "output_type": "execute_result"
        }
      ],
      "source": [
        "b[b < 0]"
      ]
    },
    {
      "cell_type": "markdown",
      "metadata": {
        "id": "5CifUxncBycd"
      },
      "source": [
        "**NOMOR 3**\n",
        "\n",
        "Buatlah sebuah array seperti dibawah ini. Keluarkan element yang bernilai positif kemudian urutkan dari nilai yang kecil ke besar\n",
        "\n",
        "```\n",
        "c = [10, -8, 4, 5, -41, 7, 5, -4]\n",
        "```"
      ]
    },
    {
      "cell_type": "code",
      "execution_count": 19,
      "metadata": {
        "colab": {
          "base_uri": "https://localhost:8080/"
        },
        "id": "1f00vX4T5cDA",
        "outputId": "0ea3782a-f963-4948-f8af-71026b3b657d"
      },
      "outputs": [
        {
          "data": {
            "text/plain": [
              "array([ 10,  -8,   4,   5, -41,   7,   5,  -4])"
            ]
          },
          "execution_count": 19,
          "metadata": {},
          "output_type": "execute_result"
        }
      ],
      "source": [
        "c = [10, -8, 4, 5, -41, 7, 5, -4]\n",
        "c = np.array(c)\n",
        "c"
      ]
    },
    {
      "cell_type": "code",
      "execution_count": 21,
      "metadata": {
        "colab": {
          "base_uri": "https://localhost:8080/"
        },
        "id": "1ZfbN0b35zw7",
        "outputId": "aa2c73c3-a404-409a-c000-08162213de20"
      },
      "outputs": [
        {
          "data": {
            "text/plain": [
              "array([ 4,  5,  5,  7, 10])"
            ]
          },
          "execution_count": 21,
          "metadata": {},
          "output_type": "execute_result"
        }
      ],
      "source": [
        "#mengurutkan numpy dari kecil ke besar\n",
        "np.sort(c[c > 0])"
      ]
    },
    {
      "cell_type": "code",
      "execution_count": 23,
      "metadata": {
        "colab": {
          "base_uri": "https://localhost:8080/"
        },
        "id": "phFos8cX6Kh8",
        "outputId": "6ec5a8c9-ece3-4d2c-dd5c-3a72523e244f"
      },
      "outputs": [
        {
          "data": {
            "text/plain": [
              "array([10,  7,  5,  5,  4])"
            ]
          },
          "execution_count": 23,
          "metadata": {},
          "output_type": "execute_result"
        }
      ],
      "source": [
        "#mengurutkan numpy dari besar ke kecil\n",
        "np.sort(c[c>0])[::-1]"
      ]
    },
    {
      "cell_type": "markdown",
      "metadata": {
        "id": "HCADhAfWCiX-"
      },
      "source": [
        "**NOMOR 4**\n",
        "\n",
        "Buatlah array seperti dibawah ini kemudian tumpukkan secara horizontal dan vertikal satu sama lain.\n",
        "\n",
        "```\n",
        "d = [1, 2, 3, 4, 5]\n",
        "e = [6, 7, 8, 9, 10]\n",
        "```"
      ]
    },
    {
      "cell_type": "code",
      "execution_count": 25,
      "metadata": {
        "id": "fYmj24B3634U"
      },
      "outputs": [],
      "source": [
        "d = [1, 2, 3, 4, 5]\n",
        "e = [6, 7, 8, 9, 10]\n",
        "d = np.array(d)\n",
        "e = np.array(e)"
      ]
    },
    {
      "cell_type": "code",
      "execution_count": 27,
      "metadata": {
        "colab": {
          "base_uri": "https://localhost:8080/"
        },
        "id": "1SCo10UV7LpQ",
        "outputId": "fca12bed-c663-4609-bef6-c9c45e232c60"
      },
      "outputs": [
        {
          "data": {
            "text/plain": [
              "array([ 1,  2,  3,  4,  5,  6,  7,  8,  9, 10])"
            ]
          },
          "execution_count": 27,
          "metadata": {},
          "output_type": "execute_result"
        }
      ],
      "source": [
        "# menumpuk secara horizontal\n",
        "np.hstack((d, e))"
      ]
    },
    {
      "cell_type": "code",
      "execution_count": 28,
      "metadata": {
        "colab": {
          "base_uri": "https://localhost:8080/"
        },
        "id": "BtTfEyPh7S0e",
        "outputId": "47067172-61dd-4b71-e0e0-62435086153d"
      },
      "outputs": [
        {
          "data": {
            "text/plain": [
              "array([[ 1,  2,  3,  4,  5],\n",
              "       [ 6,  7,  8,  9, 10]])"
            ]
          },
          "execution_count": 28,
          "metadata": {},
          "output_type": "execute_result"
        }
      ],
      "source": [
        "# menumpuk secara vertical\n",
        "np.vstack((d, e))"
      ]
    },
    {
      "cell_type": "code",
      "execution_count": 30,
      "metadata": {
        "colab": {
          "base_uri": "https://localhost:8080/"
        },
        "id": "7P2gRemW8Y7o",
        "outputId": "f38de085-d5ee-4ea1-f23d-5a3c58a3b621"
      },
      "outputs": [
        {
          "data": {
            "text/plain": [
              "2"
            ]
          },
          "execution_count": 30,
          "metadata": {},
          "output_type": "execute_result"
        }
      ],
      "source": [
        "# Melihat dimensi array dari hasil tumpukan secara vertikal\n",
        "array_vertical = np.vstack((d, e))\n",
        "array_vertical.ndim"
      ]
    },
    {
      "cell_type": "code",
      "execution_count": 31,
      "metadata": {
        "colab": {
          "base_uri": "https://localhost:8080/"
        },
        "id": "XzLzPRma8qeA",
        "outputId": "9beb5980-a60d-4796-91d0-b83e3d178439"
      },
      "outputs": [
        {
          "data": {
            "text/plain": [
              "(2, 5)"
            ]
          },
          "execution_count": 31,
          "metadata": {},
          "output_type": "execute_result"
        }
      ],
      "source": [
        "# Melihat ukuran dari array\n",
        "array_vertical.shape"
      ]
    },
    {
      "cell_type": "markdown",
      "metadata": {
        "id": "a6rPOD9gFkMX"
      },
      "source": [
        "**NOMOR 5**\n",
        "\n",
        "Buatlah dua buah array seperti dibawah ini yang berasal dari 1 deklarasi variabel yang sama. Kemudian, kalikan array pertama dengan `2` dan kalikan array kedua dengan `3`.\n",
        "\n",
        "```\n",
        "f = [10, 20, 30, 40, 50]\n",
        "```\n",
        "\n",
        "Ekspektasi output : \n",
        "```\n",
        "hasil perkalian dengan 2 -> [20, 40, 60, 80, 100] \n",
        "hasil perkalian dengan 3 -> [30, 60, 90, 120, 150]\n",
        "```"
      ]
    },
    {
      "cell_type": "code",
      "execution_count": 34,
      "metadata": {
        "colab": {
          "base_uri": "https://localhost:8080/"
        },
        "id": "C4TTy-ii9d3y",
        "outputId": "f0ddd182-a132-464e-be25-3f182c26a737"
      },
      "outputs": [
        {
          "name": "stdout",
          "output_type": "stream",
          "text": [
            "[ 20  40  60  80 100]\n",
            "[ 30  60  90 120 150]\n"
          ]
        }
      ],
      "source": [
        "f = [10, 20, 30, 40, 50]\n",
        "f = np.array(f)\n",
        "f_new = f.copy() #harus di cupy karna akan di kalikan untuk kedua kalinya\n",
        "\n",
        "f_kali_2 = f * 2\n",
        "f_kali_3 = f_new * 3\n",
        "\n",
        "print(f_kali_2)\n",
        "print(f_kali_3)"
      ]
    },
    {
      "cell_type": "markdown",
      "metadata": {
        "id": "O5YBZlhND_tI"
      },
      "source": [
        "**NOMOR 6**\n",
        "\n",
        "Buatlah sebuah array seperti dibawah ini dan hitung total jumlahnya.\n",
        "\n",
        "```\n",
        "h = [1, 2, 3, 4, 5]\n",
        "j = [ [1, 2, 3],\n",
        "      [4, 5, 6]]\n",
        "```\n",
        "\n",
        "Ekspektasi output :\n",
        "\n",
        "```\n",
        "total nilai h = 15\n",
        "total nilai j berdasarkan penjumlahan baris = [6, 15]\n",
        "total nilai j berdasarkan penjumlahan kolom = [5, 7, 9]\n",
        "```"
      ]
    },
    {
      "cell_type": "code",
      "execution_count": 35,
      "metadata": {
        "id": "u0UJ7Xyj-jAi"
      },
      "outputs": [],
      "source": [
        "h = [1, 2, 3, 4, 5]\n",
        "j =[[1, 2, 3],\n",
        "    [4, 5, 6]]\n",
        "\n",
        "h = np.array(h)\n",
        "j = np.array(j)"
      ]
    },
    {
      "cell_type": "code",
      "execution_count": 36,
      "metadata": {
        "colab": {
          "base_uri": "https://localhost:8080/"
        },
        "id": "3m3T-7jS-72v",
        "outputId": "77e0a1da-cfa5-451d-e263-5f957473514f"
      },
      "outputs": [
        {
          "data": {
            "text/plain": [
              "15"
            ]
          },
          "execution_count": 36,
          "metadata": {},
          "output_type": "execute_result"
        }
      ],
      "source": [
        "# Menjumlahkan total nilah h\n",
        "h.sum()"
      ]
    },
    {
      "cell_type": "code",
      "execution_count": 41,
      "metadata": {
        "colab": {
          "base_uri": "https://localhost:8080/"
        },
        "id": "ExJRuHco_FFM",
        "outputId": "764b369c-866f-4bc1-f575-632ead2f22bb"
      },
      "outputs": [
        {
          "data": {
            "text/plain": [
              "array([ 6, 15])"
            ]
          },
          "execution_count": 41,
          "metadata": {},
          "output_type": "execute_result"
        }
      ],
      "source": [
        "# Menjumlahkan total nilai j berdasarkan penjumlhan baris\n",
        "j.sum(axis=1)"
      ]
    },
    {
      "cell_type": "code",
      "execution_count": 42,
      "metadata": {
        "colab": {
          "base_uri": "https://localhost:8080/"
        },
        "id": "LAO3giy4_mbS",
        "outputId": "00a00856-b87c-43a2-e16c-79b48ccd46c2"
      },
      "outputs": [
        {
          "data": {
            "text/plain": [
              "array([5, 7, 9])"
            ]
          },
          "execution_count": 42,
          "metadata": {},
          "output_type": "execute_result"
        }
      ],
      "source": [
        "# menjumlahkan nilai j berdasarkan penjumlahan kolom\n",
        "j.sum(axis=0)"
      ]
    },
    {
      "cell_type": "markdown",
      "metadata": {
        "id": "LBUuItrJKwzg"
      },
      "source": [
        "**NOMOR 7**\n",
        "\n",
        "Buatlah sebuah array seperti dibawah ini dan cari nilai `min`, `max`, dan `sum` per baris dan per kolom.\n",
        "\n",
        "```\n",
        "k = [ [1, 2, 3],\n",
        "      [4, 5, 6]]\n",
        "```"
      ]
    },
    {
      "cell_type": "code",
      "execution_count": 43,
      "metadata": {
        "colab": {
          "base_uri": "https://localhost:8080/"
        },
        "id": "CBgdJvwFAGk2",
        "outputId": "7cb2020a-6d9d-49c3-9da9-b3d84e9e18f8"
      },
      "outputs": [
        {
          "data": {
            "text/plain": [
              "array([[1, 2, 3],\n",
              "       [4, 5, 6]])"
            ]
          },
          "execution_count": 43,
          "metadata": {},
          "output_type": "execute_result"
        }
      ],
      "source": [
        "# Mendefenisikan array\n",
        "k= [[1, 2, 3],\n",
        "    [4, 5, 6]]\n",
        "k = np.array(k)\n",
        "k"
      ]
    },
    {
      "cell_type": "code",
      "execution_count": 45,
      "metadata": {
        "colab": {
          "base_uri": "https://localhost:8080/"
        },
        "id": "Twj7zparAXrE",
        "outputId": "95716736-7b9e-416f-8d09-f300e04be90f"
      },
      "outputs": [
        {
          "name": "stdout",
          "output_type": "stream",
          "text": [
            "Per baris - Minimum : [1 4]\n",
            "Per baris - Maximum : [3 6]\n",
            "Per baris - sum : [ 6 15]\n"
          ]
        }
      ],
      "source": [
        "# Mencari nilai min, max, dan sum per baris\n",
        "print('Per baris - Minimum :', k.min(axis = 1))\n",
        "print('Per baris - Maximum :', k.max(axis = 1))\n",
        "print('Per baris - sum :', k.sum(axis = 1))"
      ]
    },
    {
      "cell_type": "code",
      "execution_count": 46,
      "metadata": {
        "colab": {
          "base_uri": "https://localhost:8080/"
        },
        "id": "_3IlhSwdA-DE",
        "outputId": "1a6cf576-628a-4e91-df7d-7927f9d5e73a"
      },
      "outputs": [
        {
          "name": "stdout",
          "output_type": "stream",
          "text": [
            "Per kolom - Minimum : [1 2 3]\n",
            "Per kolom - Maximum : [4 5 6]\n",
            "Per kolom - sum : [5 7 9]\n"
          ]
        }
      ],
      "source": [
        "# Mencari nilai min, max, dan sum per kolom\n",
        "print('Per kolom - Minimum :', k.min(axis = 0))\n",
        "print('Per kolom - Maximum :', k.max(axis = 0))\n",
        "print('Per kolom - sum :', k.sum(axis = 0))"
      ]
    },
    {
      "cell_type": "markdown",
      "metadata": {
        "id": "J6a6XCIaOZ9_"
      },
      "source": [
        "**NOMOR 8**\n",
        "\n",
        "Buatlah sebuah array seperti dibawah ini dan cari baris kedua dan kolom kedua.\n",
        "\n",
        "```\n",
        "n = [ [1, 2, 3], \n",
        "      [4, 5, 6],\n",
        "      [7, 8, 9]]\n",
        "```"
      ]
    },
    {
      "cell_type": "code",
      "execution_count": 49,
      "metadata": {
        "colab": {
          "base_uri": "https://localhost:8080/"
        },
        "id": "HljSddyx_6ar",
        "outputId": "4e9c529a-094f-4f3f-8dbb-1cfd55232884"
      },
      "outputs": [
        {
          "data": {
            "text/plain": [
              "array([[1, 2, 3],\n",
              "       [4, 5, 6],\n",
              "       [7, 8, 9]])"
            ]
          },
          "execution_count": 49,
          "metadata": {},
          "output_type": "execute_result"
        }
      ],
      "source": [
        "n = [[1, 2, 3],\n",
        "     [4, 5, 6],\n",
        "     [7, 8, 9]]\n",
        "n = np.array(n)\n",
        "n"
      ]
    },
    {
      "cell_type": "code",
      "execution_count": 62,
      "metadata": {
        "colab": {
          "base_uri": "https://localhost:8080/"
        },
        "id": "MYLWnDXYDQRn",
        "outputId": "cfbd9958-3d9f-4c7d-d7ed-004b0d85c321"
      },
      "outputs": [
        {
          "data": {
            "text/plain": [
              "array([[1, 2, 3],\n",
              "       [4, 5, 6]])"
            ]
          },
          "execution_count": 62,
          "metadata": {},
          "output_type": "execute_result"
        }
      ],
      "source": [
        "# mengambil baris kedua\n",
        "n[1]\n",
        "\n",
        "# mengambil baris kesatu dan kedua\n",
        "n[0:2]"
      ]
    },
    {
      "cell_type": "code",
      "execution_count": 58,
      "metadata": {
        "colab": {
          "base_uri": "https://localhost:8080/"
        },
        "id": "LYKiOg2nD8W0",
        "outputId": "ec22a052-e786-408e-82f3-401daae0a50c"
      },
      "outputs": [
        {
          "data": {
            "text/plain": [
              "array([[2],\n",
              "       [5],\n",
              "       [8]])"
            ]
          },
          "execution_count": 58,
          "metadata": {},
          "output_type": "execute_result"
        }
      ],
      "source": [
        "# mengambil semua kolom\n",
        "n[:, 1:2]"
      ]
    },
    {
      "cell_type": "markdown",
      "metadata": {
        "id": "TBse5Mg4MQqQ"
      },
      "source": [
        "**NOMOR 9**\n",
        "\n",
        "Buatlah sebuah array seperti dibawah ini dan cari nilai `min`, `max`, dan `sum` untuk baris kedua dan kolom kedua.\n",
        "\n",
        "```\n",
        "m = [ [1, 2, 3], \n",
        "      [4, 5, 6],\n",
        "      [7, 8, 9]]\n",
        "```"
      ]
    },
    {
      "cell_type": "code",
      "execution_count": 48,
      "metadata": {
        "colab": {
          "base_uri": "https://localhost:8080/"
        },
        "id": "I_oU5Z0hCSbx",
        "outputId": "61ac9bc3-2532-4e92-b03e-d47d47e6603c"
      },
      "outputs": [
        {
          "data": {
            "text/plain": [
              "array([[1, 2, 3],\n",
              "       [4, 5, 6],\n",
              "       [7, 8, 9]])"
            ]
          },
          "execution_count": 48,
          "metadata": {},
          "output_type": "execute_result"
        }
      ],
      "source": [
        "m = [[1, 2, 3],\n",
        "     [4, 5, 6],\n",
        "     [7, 8, 9]]\n",
        "m = np.array(m)\n",
        "m"
      ]
    },
    {
      "cell_type": "code",
      "execution_count": 67,
      "metadata": {
        "colab": {
          "base_uri": "https://localhost:8080/"
        },
        "id": "1fwHFbVJIghI",
        "outputId": "993635ff-9307-400d-9139-5c247af6cd20"
      },
      "outputs": [
        {
          "name": "stdout",
          "output_type": "stream",
          "text": [
            "Baris kedua : [4 5 6]\n",
            "Kolom kedua : [2 5 8]\n"
          ]
        }
      ],
      "source": [
        "# Cari baris kedua dan kolom kedua\n",
        "m_baris_2 = m [1]\n",
        "m_kolom_2 = m[:,1]\n",
        "\n",
        "print('Baris kedua :', m_baris_2)\n",
        "print('Kolom kedua :', m_kolom_2)"
      ]
    },
    {
      "cell_type": "code",
      "execution_count": 69,
      "metadata": {
        "colab": {
          "base_uri": "https://localhost:8080/"
        },
        "id": "VhxF5itcI-rJ",
        "outputId": "a5056d2b-de89-411c-f18f-32fff94c1c05"
      },
      "outputs": [
        {
          "name": "stdout",
          "output_type": "stream",
          "text": [
            "Baris - Min : 4\n",
            "Baris - Max : 6\n",
            "Baris - Sum : 15\n",
            "Kolom - Min : 2\n",
            "Kolom - Max : 8\n",
            "Kolom - Sum : 15\n"
          ]
        }
      ],
      "source": [
        "print('Baris - Min :', m_baris_2.min())\n",
        "print('Baris - Max :', m_baris_2.max())\n",
        "print('Baris - Sum :', m_baris_2.sum())\n",
        "print('Kolom - Min :', m_kolom_2.min())\n",
        "print('Kolom - Max :', m_kolom_2.max())\n",
        "print('Kolom - Sum :', m_kolom_2.sum())"
      ]
    },
    {
      "cell_type": "markdown",
      "metadata": {
        "id": "auIJcLvRbdho"
      },
      "source": [
        "**NOMOR 10**\n",
        "\n",
        "<img src='https://i.ibb.co/JvBzgWn/greyscale.png'>\n",
        "\n",
        "Download image [disini](https://i.ibb.co/JvBzgWn/greyscale.png)\n",
        "\n",
        "* Load gambar tersebut dengan menggunakan library matplotlib.\n",
        "* Jawab pertanyaan berikut ini : \n",
        "  - Berapa ukuran gambar tersebut.\n",
        "  - Berapa total piksel/element pada gambar tersebut.\n",
        "  - Cerahkan gambar tersebut dengan menambahkan suatu angka."
      ]
    },
    {
      "cell_type": "code",
      "execution_count": 73,
      "metadata": {
        "id": "ydl5voFnKmBX"
      },
      "outputs": [],
      "source": [
        "# Load gambar\n",
        "import matplotlib.pyplot as plt\n",
        "img = plt.imread('greyscale.png')"
      ]
    },
    {
      "cell_type": "code",
      "execution_count": 74,
      "metadata": {
        "colab": {
          "base_uri": "https://localhost:8080/"
        },
        "id": "Uuxs4RuWLo3r",
        "outputId": "d69389fc-c844-4611-dfa0-fb80fead728d"
      },
      "outputs": [
        {
          "data": {
            "text/plain": [
              "(700, 1120)"
            ]
          },
          "execution_count": 74,
          "metadata": {},
          "output_type": "execute_result"
        }
      ],
      "source": [
        "# Mengecek ukuran gambar\n",
        "\n",
        "img.shape"
      ]
    },
    {
      "cell_type": "code",
      "execution_count": 75,
      "metadata": {
        "colab": {
          "base_uri": "https://localhost:8080/"
        },
        "id": "DOatNNuFLvG7",
        "outputId": "52861d81-8da7-41f6-81e8-6664920a3ce9"
      },
      "outputs": [
        {
          "data": {
            "text/plain": [
              "784000"
            ]
          },
          "execution_count": 75,
          "metadata": {},
          "output_type": "execute_result"
        }
      ],
      "source": [
        "# Mengecek total piksel/element\n",
        "img.size"
      ]
    },
    {
      "cell_type": "code",
      "execution_count": 77,
      "metadata": {
        "colab": {
          "base_uri": "https://localhost:8080/"
        },
        "id": "_DKJb7nrL6vF",
        "outputId": "8926d376-5fc1-4f54-d548-a77601b54cfb"
      },
      "outputs": [
        {
          "data": {
            "text/plain": [
              "array([[0.37254903, 0.3529412 , 0.34509805, ..., 0.        , 0.        ,\n",
              "        0.        ],\n",
              "       [0.38431373, 0.36078432, 0.34509805, ..., 0.        , 0.        ,\n",
              "        0.        ],\n",
              "       [0.3882353 , 0.36078432, 0.34117648, ..., 0.        , 0.        ,\n",
              "        0.        ],\n",
              "       ...,\n",
              "       [0.08235294, 0.07450981, 0.09411765, ..., 0.0627451 , 0.0627451 ,\n",
              "        0.06666667],\n",
              "       [0.07843138, 0.07450981, 0.10588235, ..., 0.06666667, 0.06666667,\n",
              "        0.06666667],\n",
              "       [0.05882353, 0.07058824, 0.12156863, ..., 0.07843138, 0.07843138,\n",
              "        0.07843138]], dtype=float32)"
            ]
          },
          "execution_count": 77,
          "metadata": {},
          "output_type": "execute_result"
        }
      ],
      "source": [
        "# Menduplikat gambar\n",
        "# gambar itu normal nya 0 - 255, 0 = hitam dan 255 = putih\n",
        "img_baru = img.copy()\n",
        "img"
      ]
    },
    {
      "cell_type": "code",
      "execution_count": null,
      "metadata": {
        "id": "e8L2vLexMMDk"
      },
      "outputs": [],
      "source": []
    },
    {
      "cell_type": "code",
      "execution_count": 94,
      "metadata": {
        "colab": {
          "base_uri": "https://localhost:8080/"
        },
        "id": "nJvLFoQXMiyk",
        "outputId": "918eeaa9-4d98-4983-e174-443111b03b6e"
      },
      "outputs": [
        {
          "data": {
            "text/plain": [
              "0.39215686274509803"
            ]
          },
          "execution_count": 94,
          "metadata": {},
          "output_type": "execute_result"
        }
      ],
      "source": [
        "# mendefinisikan sembarang angka\n",
        "\n",
        "num = 100\n",
        "num = num/255\n",
        "num"
      ]
    },
    {
      "cell_type": "code",
      "execution_count": 95,
      "metadata": {
        "colab": {
          "base_uri": "https://localhost:8080/"
        },
        "id": "KSpC3v3IMubW",
        "outputId": "777c35c1-c6c7-4b03-e8f9-9865be3758c7"
      },
      "outputs": [
        {
          "data": {
            "text/plain": [
              "array([[2.137255 , 2.1176472, 2.109804 , ..., 1.7647059, 1.7647059,\n",
              "        1.7647059],\n",
              "       [2.1490197, 2.1254902, 2.109804 , ..., 1.7647059, 1.7647059,\n",
              "        1.7647059],\n",
              "       [2.1529412, 2.1254902, 2.1058824, ..., 1.7647059, 1.7647059,\n",
              "        1.7647059],\n",
              "       ...,\n",
              "       [1.8470588, 1.8392158, 1.8588235, ..., 1.827451 , 1.827451 ,\n",
              "        1.8313725],\n",
              "       [1.8431373, 1.8392158, 1.8705883, ..., 1.8313725, 1.8313725,\n",
              "        1.8313725],\n",
              "       [1.8235295, 1.8352941, 1.8862746, ..., 1.8431373, 1.8431373,\n",
              "        1.8431373]], dtype=float32)"
            ]
          },
          "execution_count": 95,
          "metadata": {},
          "output_type": "execute_result"
        }
      ],
      "source": [
        "# mencerahkan gambar dengan menambah angka sembarang\n",
        "\n",
        "img_baru = img_baru + num\n",
        "img_baru"
      ]
    },
    {
      "cell_type": "code",
      "execution_count": 89,
      "metadata": {
        "colab": {
          "base_uri": "https://localhost:8080/",
          "height": 278
        },
        "id": "B5SLa81QM97N",
        "outputId": "3a3b1d08-2d56-419a-fd0e-c461facc20e3"
      },
      "outputs": [
        {
          "data": {
            "text/plain": [
              "<matplotlib.image.AxesImage at 0x7f5031ec9f50>"
            ]
          },
          "execution_count": 89,
          "metadata": {},
          "output_type": "execute_result"
        },
        {
          "data": {
            "image/png": "[encoded data removed]",
            "text/plain": [
              "<Figure size 432x288 with 1 Axes>"
            ]
          },
          "metadata": {
            "needs_background": "light"
          },
          "output_type": "display_data"
        }
      ],
      "source": [
        "# Menampilkan gambar sebelum di cerahkan\n",
        "\n",
        "plt.imshow(img, cmap='gray', vmin= 0, vmax=1)"
      ]
    },
    {
      "cell_type": "code",
      "execution_count": 100,
      "metadata": {
        "colab": {
          "base_uri": "https://localhost:8080/",
          "height": 278
        },
        "id": "XST01cYyNM-V",
        "outputId": "b73ef80b-f86d-4821-8794-c23ef0bf9f85"
      },
      "outputs": [
        {
          "data": {
            "text/plain": [
              "<matplotlib.image.AxesImage at 0x7f503c511450>"
            ]
          },
          "execution_count": 100,
          "metadata": {},
          "output_type": "execute_result"
        },
        {
          "data": {
            "image/png": "[encoded data removed]",
            "text/plain": [
              "<Figure size 432x288 with 1 Axes>"
            ]
          },
          "metadata": {
            "needs_background": "light"
          },
          "output_type": "display_data"
        }
      ],
      "source": [
        "# Menampilkan gambar setelah dicerahkan\n",
        "plt.imshow(img_baru, cmap='gray', vmin=0, vmax=3)"
      ]
    }
  ],
  "metadata": {
    "colab": {
      "collapsed_sections": [],
      "name": "P0W1D3PM - Exercises - Numpy.ipynb",
      "provenance": []
    },
    "kernelspec": {
      "display_name": "Python 3",
      "name": "python3"
    },
    "language_info": {
      "name": "python"
    }
  },
  "nbformat": 4,
  "nbformat_minor": 0
}
