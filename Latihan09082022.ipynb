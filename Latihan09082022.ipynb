{
  "cells": [
    {
      "cell_type": "markdown",
      "metadata": {},
      "source": [
        "# Print dan String"
      ]
    },
    {
      "cell_type": "code",
      "execution_count": 1,
      "metadata": {
        "colab": {
          "base_uri": "https://localhost:8080/"
        },
        "id": "mZGqrPtwVGuq",
        "outputId": "b7d6ccf2-207e-45b9-dc5b-31a2659c79f3"
      },
      "outputs": [
        {
          "name": "stdout",
          "output_type": "stream",
          "text": [
            "hello\n"
          ]
        }
      ],
      "source": [
        "print('hello')"
      ]
    },
    {
      "cell_type": "code",
      "execution_count": 12,
      "metadata": {},
      "outputs": [
        {
          "name": "stdout",
          "output_type": "stream",
          "text": [
            "hello irfan\n",
            "hello'\n",
            "hello,'irfan'\n",
            "irfan 2\n",
            "irfan2\n"
          ]
        }
      ],
      "source": [
        "print('''hello \\\n",
        "irfan''')\n",
        "print('hello\\'')\n",
        "print('hello,\\'irfan\\'')\n",
        "print('irfan','2')\n",
        "print('irfan'+'2')"
      ]
    },
    {
      "cell_type": "code",
      "execution_count": 11,
      "metadata": {},
      "outputs": [
        {
          "name": "stdout",
          "output_type": "stream",
          "text": [
            "22\n",
            "4\n"
          ]
        }
      ],
      "source": [
        "print('2'+'2')\n",
        "print(2+2)"
      ]
    },
    {
      "cell_type": "markdown",
      "metadata": {},
      "source": [
        "# Cek tipe data"
      ]
    },
    {
      "cell_type": "code",
      "execution_count": 15,
      "metadata": {},
      "outputs": [
        {
          "name": "stdout",
          "output_type": "stream",
          "text": [
            "<class 'int'>\n",
            "<class 'str'>\n",
            "<class 'str'>\n",
            "<class 'float'>\n",
            "<class 'bool'>\n",
            "<class 'NoneType'>\n"
          ]
        }
      ],
      "source": [
        "print(type(2))\n",
        "print(type('2'))\n",
        "print(type('irfan'))\n",
        "print(type(2.0))\n",
        "print(type(True))\n",
        "print(type(None))"
      ]
    },
    {
      "cell_type": "code",
      "execution_count": 18,
      "metadata": {},
      "outputs": [
        {
          "name": "stdout",
          "output_type": "stream",
          "text": [
            "False\n",
            "False\n",
            "False\n",
            "False\n",
            "True\n",
            "True\n",
            "True\n",
            "False\n"
          ]
        }
      ],
      "source": [
        "print(bool(False))\n",
        "print(bool(0))\n",
        "print(bool(''))\n",
        "print(bool([]))\n",
        "print(bool(True))\n",
        "print(bool(1))\n",
        "print(bool('irfan'))"
      ]
    },
    {
      "cell_type": "markdown",
      "metadata": {},
      "source": [
        "# casting"
      ]
    },
    {
      "cell_type": "code",
      "execution_count": 20,
      "metadata": {},
      "outputs": [
        {
          "name": "stdout",
          "output_type": "stream",
          "text": [
            "<class 'str'>\n",
            "<class 'int'>\n"
          ]
        }
      ],
      "source": [
        "print(type(str(2)))\n",
        "print(type(int('2')))"
      ]
    },
    {
      "cell_type": "markdown",
      "metadata": {},
      "source": [
        "#comment\n",
        "koment itu untuk penjelas code kita dan bisa mengabaikan suatu code"
      ]
    },
    {
      "cell_type": "code",
      "execution_count": 23,
      "metadata": {},
      "outputs": [
        {
          "name": "stdout",
          "output_type": "stream",
          "text": [
            "22\n"
          ]
        }
      ],
      "source": [
        "#print(22)\n",
        "print(22) #untuk mencetak angka 22"
      ]
    },
    {
      "cell_type": "markdown",
      "metadata": {},
      "source": [
        "# Variable\n",
        "variable adalah tempat untuk menyimpan data.\n",
        "- camelcase\n",
        "- snake_case\n",
        "- pascalcase"
      ]
    },
    {
      "cell_type": "code",
      "execution_count": 24,
      "metadata": {},
      "outputs": [],
      "source": [
        "#came1\n",
        "myVariableName= 'joko'\n",
        "\n",
        "#snake\n",
        "my_variable_name= 'joko'\n",
        "\n",
        "#pascal\n",
        "MyVariableName= 'joko'"
      ]
    },
    {
      "cell_type": "code",
      "execution_count": 27,
      "metadata": {},
      "outputs": [
        {
          "name": "stdout",
          "output_type": "stream",
          "text": [
            "joko\n",
            "joko\n",
            "irfan\n",
            "irwan\n"
          ]
        }
      ],
      "source": [
        "var1= 'joko'\n",
        "print(var1)\n",
        "\n",
        "print(var1)\n",
        "var1= 'irfan'\n",
        "print(var1)\n",
        "var1= 'irwan'\n",
        "print(var1)"
      ]
    },
    {
      "cell_type": "code",
      "execution_count": 31,
      "metadata": {},
      "outputs": [
        {
          "name": "stdout",
          "output_type": "stream",
          "text": [
            "irfan 22\n"
          ]
        }
      ],
      "source": [
        "name= 'irfan'\n",
        "umur= 22\n",
        "print(name,umur)"
      ]
    },
    {
      "cell_type": "code",
      "execution_count": 34,
      "metadata": {},
      "outputs": [
        {
          "ename": "TypeError",
          "evalue": "cannot unpack non-iterable int object",
          "output_type": "error",
          "traceback": [
            "\u001b[1;31m---------------------------------------------------------------------------\u001b[0m",
            "\u001b[1;31mTypeError\u001b[0m                                 Traceback (most recent call last)",
            "\u001b[1;32mc:\\Users\\User\\Desktop\\latihan\\Latihan09082022.ipynb Cell 16\u001b[0m in \u001b[0;36m<cell line: 1>\u001b[1;34m()\u001b[0m\n\u001b[1;32m----> <a href='vscode-notebook-cell:/c%3A/Users/User/Desktop/latihan/Latihan09082022.ipynb#X22sZmlsZQ%3D%3D?line=0'>1</a>\u001b[0m x,y,z\u001b[39m=\u001b[39m \u001b[39m22\u001b[39m\n\u001b[0;32m      <a href='vscode-notebook-cell:/c%3A/Users/User/Desktop/latihan/Latihan09082022.ipynb#X22sZmlsZQ%3D%3D?line=1'>2</a>\u001b[0m \u001b[39mprint\u001b[39m(x)\n\u001b[0;32m      <a href='vscode-notebook-cell:/c%3A/Users/User/Desktop/latihan/Latihan09082022.ipynb#X22sZmlsZQ%3D%3D?line=2'>3</a>\u001b[0m \u001b[39mprint\u001b[39m(y)\n",
            "\u001b[1;31mTypeError\u001b[0m: cannot unpack non-iterable int object"
          ]
        }
      ],
      "source": [
        "x,y,z= 22\n",
        "print(x)\n",
        "print(y)"
      ]
    },
    {
      "cell_type": "code",
      "execution_count": 35,
      "metadata": {},
      "outputs": [
        {
          "name": "stdout",
          "output_type": "stream",
          "text": [
            "22\n",
            "22\n"
          ]
        }
      ],
      "source": [
        "x=y=z= 22\n",
        "print(x)\n",
        "print(y)"
      ]
    },
    {
      "cell_type": "code",
      "execution_count": 38,
      "metadata": {},
      "outputs": [
        {
          "name": "stdout",
          "output_type": "stream",
          "text": [
            "irfan 22 joko\n"
          ]
        }
      ],
      "source": [
        "x,y,z= 'irfan', 22, 'joko'\n",
        "print(x,y,z)"
      ]
    },
    {
      "cell_type": "markdown",
      "metadata": {},
      "source": [
        "# Numeric"
      ]
    },
    {
      "cell_type": "code",
      "execution_count": 48,
      "metadata": {},
      "outputs": [
        {
          "name": "stdout",
          "output_type": "stream",
          "text": [
            "2\n",
            "2\n",
            "2.5\n",
            "2.0\n"
          ]
        }
      ],
      "source": [
        "x= 2\n",
        "y= 3\n",
        "z= str(2)\n",
        "k= round(2.5)\n",
        "j= int(2.5)\n",
        "i= float(2.5)\n",
        "w= float(2.0)\n",
        "print(k)\n",
        "print(j)\n",
        "print(i)\n",
        "print(w)"
      ]
    },
    {
      "cell_type": "code",
      "execution_count": 49,
      "metadata": {},
      "outputs": [
        {
          "name": "stdout",
          "output_type": "stream",
          "text": [
            "4\n"
          ]
        }
      ],
      "source": [
        "print(x+j)"
      ]
    },
    {
      "cell_type": "code",
      "execution_count": 47,
      "metadata": {},
      "outputs": [
        {
          "name": "stdout",
          "output_type": "stream",
          "text": [
            "5.68\n"
          ]
        }
      ],
      "source": [
        "x= round(5.67895634, 2) # 2 di belakang koma\n",
        "print(x)"
      ]
    },
    {
      "cell_type": "markdown",
      "metadata": {},
      "source": [
        "# Slicing"
      ]
    },
    {
      "cell_type": "code",
      "execution_count": 56,
      "metadata": {},
      "outputs": [
        {
          "name": "stdout",
          "output_type": "stream",
          "text": [
            "u\n",
            "ul azmi\n",
            "ul\n",
            "m\n",
            "mi\n",
            "9\n"
          ]
        }
      ],
      "source": [
        "nama= 'ulul azmi'\n",
        "print(nama[2])\n",
        "print(nama[2:])\n",
        "print(nama[:2])\n",
        "print(nama[-2])\n",
        "print(nama[-2:])\n",
        "print(len(nama)) #jumlah Karakter"
      ]
    },
    {
      "cell_type": "code",
      "execution_count": 58,
      "metadata": {},
      "outputs": [
        {
          "name": "stdout",
          "output_type": "stream",
          "text": [
            "ULUL AZMI\n",
            "ulul azmi\n",
            "UlUl azmi\n",
            "['ulul', 'azmi']\n"
          ]
        }
      ],
      "source": [
        "print(nama.upper())\n",
        "print(nama.lower())\n",
        "print(nama.replace('u','U'))\n",
        "print(nama.split(' '))"
      ]
    },
    {
      "cell_type": "markdown",
      "metadata": {},
      "source": [
        "# Format string"
      ]
    },
    {
      "cell_type": "code",
      "execution_count": 59,
      "metadata": {},
      "outputs": [
        {
          "name": "stdout",
          "output_type": "stream",
          "text": [
            "umur saya 22 tahun\n",
            "umur saya 22 tahun\n"
          ]
        }
      ],
      "source": [
        "umur= 22\n",
        "txt= 'umur saya ' + str(umur) + ' tahun'\n",
        "txt_1= 'umur saya {} tahun'\n",
        "print(txt)\n",
        "print(txt_1.format(umur))"
      ]
    },
    {
      "cell_type": "code",
      "execution_count": 62,
      "metadata": {},
      "outputs": [
        {
          "name": "stdout",
          "output_type": "stream",
          "text": [
            "halo nama saya ulul azmi, umur saya 28 tahun, batch 15\n",
            "halo nama saya ulul azmi, umur saya 28 tahun, batch 15\n"
          ]
        }
      ],
      "source": [
        "nama= 'ulul azmi'\n",
        "umur= 28\n",
        "batch= 15\n",
        "text_1= 'halo nama saya {}, umur saya {} tahun, batch {}'\n",
        "print(text_1.format(nama,umur,batch))\n",
        "text_1= 'halo nama saya {1}, umur saya {0} tahun, batch {2}'\n",
        "print(text_1.format(umur,nama,batch))"
      ]
    },
    {
      "cell_type": "code",
      "execution_count": 67,
      "metadata": {},
      "outputs": [
        {
          "name": "stdout",
          "output_type": "stream",
          "text": [
            "hello, nama saya ulul azmi, umur saya 28,batch 15\n"
          ]
        }
      ],
      "source": [
        "print(f'hello, nama saya {nama}, umur saya {umur},batch {batch}')"
      ]
    },
    {
      "cell_type": "markdown",
      "metadata": {},
      "source": [
        "# Escape Characters"
      ]
    },
    {
      "cell_type": "code",
      "execution_count": 70,
      "metadata": {},
      "outputs": [
        {
          "name": "stdout",
          "output_type": "stream",
          "text": [
            "hallo, nama saya 'irfan'\n",
            "hello \n",
            "nama saya 'irfan'\n"
          ]
        }
      ],
      "source": [
        "txt= 'hallo, nama saya \\'irfan\\''\n",
        "print(txt)\n",
        "\n",
        "txt2= 'hello \\nnama saya \\'irfan\\''\n",
        "print(txt2)"
      ]
    },
    {
      "cell_type": "code",
      "execution_count": 72,
      "metadata": {},
      "outputs": [
        {
          "name": "stdout",
          "output_type": "stream",
          "text": [
            "helloworld!\n",
            "hello\tworld!\n",
            "2     2\n"
          ]
        }
      ],
      "source": [
        "print('hello \\bworld!')\n",
        "print('hello\\tworld!')\n",
        "print('2 \\\n",
        "    2')"
      ]
    },
    {
      "cell_type": "markdown",
      "metadata": {},
      "source": [
        "# List"
      ]
    },
    {
      "cell_type": "code",
      "execution_count": 77,
      "metadata": {},
      "outputs": [
        {
          "name": "stdout",
          "output_type": "stream",
          "text": [
            "['mother', 'father', 'brother', 'sister']\n",
            "['2', 2, True]\n",
            "<class 'list'>\n"
          ]
        }
      ],
      "source": [
        "list1= ['mother', 'father', 'brother', 'sister']\n",
        "list2= ['2',2, True]\n",
        "print(list1)\n",
        "print(list2)\n",
        "print(type(list2))"
      ]
    },
    {
      "cell_type": "code",
      "execution_count": 78,
      "metadata": {},
      "outputs": [
        {
          "name": "stdout",
          "output_type": "stream",
          "text": [
            "father\n",
            "['mother', 'father', 'brother']\n"
          ]
        }
      ],
      "source": [
        "print(list1[1])\n",
        "print(list1[:-1])"
      ]
    },
    {
      "cell_type": "code",
      "execution_count": 79,
      "metadata": {},
      "outputs": [
        {
          "name": "stdout",
          "output_type": "stream",
          "text": [
            "['mother', 'Ayah', 'brother', 'sister']\n"
          ]
        }
      ],
      "source": [
        "#jika ingin merubah urutan list\n",
        "list1[1]='Ayah'\n",
        "print(list1)"
      ]
    },
    {
      "cell_type": "code",
      "execution_count": 80,
      "metadata": {},
      "outputs": [
        {
          "name": "stdout",
          "output_type": "stream",
          "text": [
            "['mother', 'ibu', 'Ayah', 'brother', 'sister']\n"
          ]
        }
      ],
      "source": [
        "#jika ingin menambahkan ditengah list\n",
        "list1.insert(1,'ibu')\n",
        "print(list1)"
      ]
    },
    {
      "cell_type": "code",
      "execution_count": 81,
      "metadata": {},
      "outputs": [
        {
          "name": "stdout",
          "output_type": "stream",
          "text": [
            "['mother', 'ibu', 'Ayah', 'brother', 'sister', 'cucu']\n"
          ]
        }
      ],
      "source": [
        "#jika ingin menambahkan dibagian akhir list\n",
        "list1.append('cucu')\n",
        "print(list1)"
      ]
    },
    {
      "cell_type": "code",
      "execution_count": 84,
      "metadata": {},
      "outputs": [
        {
          "name": "stdout",
          "output_type": "stream",
          "text": [
            "['motor', 'mobil', 'pesawat', 'becak']\n"
          ]
        }
      ],
      "source": [
        "list1= ['motor', 'mobil']\n",
        "list2= ['pesawat', 'becak']\n",
        "list1.extend(list2)\n",
        "print(list1)"
      ]
    },
    {
      "cell_type": "markdown",
      "metadata": {},
      "source": [
        "# Tuple"
      ]
    },
    {
      "cell_type": "code",
      "execution_count": 86,
      "metadata": {},
      "outputs": [
        {
          "name": "stdout",
          "output_type": "stream",
          "text": [
            "('motor', 'mobil', 'becak', 'pesawat')\n",
            "mobil\n"
          ]
        }
      ],
      "source": [
        "#sama seperti list, tapi tidak bisa merubah data\n",
        "mytuple= ('motor', 'mobil', 'becak', 'pesawat')\n",
        "print(mytuple)\n",
        "print(mytuple[1])"
      ]
    },
    {
      "cell_type": "code",
      "execution_count": 87,
      "metadata": {},
      "outputs": [
        {
          "name": "stdout",
          "output_type": "stream",
          "text": [
            "['motor', 'car', 'becak', 'pesawat']\n",
            "('motor', 'car', 'becak', 'pesawat')\n"
          ]
        }
      ],
      "source": [
        "#cara agar mytuple bisa di ubah datanya, harus merubahnya menjadi list\n",
        "mytuple_cadangan= list(mytuple)\n",
        "mytuple_cadangan[1]= 'car'\n",
        "mytuple= tuple(mytuple_cadangan)\n",
        "print(mytuple_cadangan)\n",
        "print(mytuple)"
      ]
    },
    {
      "cell_type": "markdown",
      "metadata": {},
      "source": [
        "# Car"
      ]
    },
    {
      "cell_type": "code",
      "execution_count": 88,
      "metadata": {},
      "outputs": [
        {
          "name": "stdout",
          "output_type": "stream",
          "text": [
            "{'pesawat', 'motor', 'mobil', 'becak'}\n"
          ]
        }
      ],
      "source": [
        "#list yang datanya acak\n",
        "myset= {'motor', 'mobil', 'becak', 'pesawat'}\n",
        "print(myset)"
      ]
    },
    {
      "cell_type": "code",
      "execution_count": 89,
      "metadata": {},
      "outputs": [
        {
          "name": "stdout",
          "output_type": "stream",
          "text": [
            "{'pesawat', 'becak', 'motor', 'kapal', 'mobil'}\n"
          ]
        }
      ],
      "source": [
        "#jika ingin menambahkan data di myset\n",
        "myset.add('kapal')\n",
        "print(myset)"
      ]
    },
    {
      "cell_type": "code",
      "execution_count": 91,
      "metadata": {},
      "outputs": [
        {
          "name": "stdout",
          "output_type": "stream",
          "text": [
            "{'motor', 'honda', 'bmw', 'pesawat', 'mobil', 'becak'}\n",
            "{'motor', 'honda', 'bmw', 'pesawat', 'mobil', 'becak'}\n"
          ]
        }
      ],
      "source": [
        "#jika ingi menggabungkan 2 set dengan membuat variabel baru\n",
        "set1= {'motor', 'mobil', 'becak', 'pesawat'}\n",
        "set2= {'bmw', 'honda'}\n",
        "set3= set1.union(set2)\n",
        "print(set3)\n",
        "\n",
        "#bisa juga menggunakan update, tidak perlu membuat variabel baru\n",
        "set1.update(set2)\n",
        "print(set1)"
      ]
    },
    {
      "cell_type": "markdown",
      "metadata": {},
      "source": [
        "# Dictionary"
      ]
    },
    {
      "cell_type": "code",
      "execution_count": 92,
      "metadata": {},
      "outputs": [
        {
          "name": "stdout",
          "output_type": "stream",
          "text": [
            "{'nama': 'ulul', 'umur': 22}\n"
          ]
        }
      ],
      "source": [
        "dict_1= {'nama':'ulul',\n",
        "        'umur':22}\n",
        "print(dict_1)"
      ]
    },
    {
      "cell_type": "code",
      "execution_count": 96,
      "metadata": {},
      "outputs": [
        {
          "name": "stdout",
          "output_type": "stream",
          "text": [
            "ulul\n",
            "ulul\n",
            "dict_keys(['nama', 'umur'])\n",
            "dict_values(['ulul', 22])\n",
            "dict_items([('nama', 'ulul'), ('umur', 22)])\n"
          ]
        }
      ],
      "source": [
        "print(dict_1['nama'])\n",
        "print(dict_1.get('nama'))\n",
        "print(dict_1.keys())\n",
        "print(dict_1.values())\n",
        "print(dict_1.items())"
      ]
    },
    {
      "cell_type": "code",
      "execution_count": 101,
      "metadata": {},
      "outputs": [
        {
          "name": "stdout",
          "output_type": "stream",
          "text": [
            "irfan\n"
          ]
        }
      ],
      "source": [
        "dict_2= {1: {'nama': 'irfan', 'age': 25},\n",
        "        2: {'nama': 'ulul', 'age': 22}}\n",
        "print(dict_2[1]['nama'])\n",
        "         "
      ]
    },
    {
      "cell_type": "markdown",
      "metadata": {},
      "source": [
        "# latihan"
      ]
    },
    {
      "cell_type": "code",
      "execution_count": 111,
      "metadata": {},
      "outputs": [
        {
          "name": "stdout",
          "output_type": "stream",
          "text": [
            "['baz']\n",
            "['foo', 'bar', 'baz']\n",
            "['qux']\n",
            "['bar', 'baz']\n"
          ]
        }
      ],
      "source": [
        "thislist= ['foo', 'bar', 'baz', 'qux']\n",
        "print(thislist[2:3])\n",
        "print(thislist[:3])\n",
        "print(thislist[3:])\n",
        "print(thislist[-3:-1])"
      ]
    },
    {
      "cell_type": "code",
      "execution_count": 113,
      "metadata": {},
      "outputs": [
        {
          "name": "stdout",
          "output_type": "stream",
          "text": [
            "['foo', 'jojo', 'baba', 'baz', 'quz', 'nex']\n"
          ]
        }
      ],
      "source": [
        "thislist= ['foo', 'bar', 'baz', 'quz', 'nex']\n",
        "thislist[1:2]= [\"jojo\", \"baba\"]\n",
        "print(thislist)"
      ]
    },
    {
      "cell_type": "code",
      "execution_count": 115,
      "metadata": {},
      "outputs": [
        {
          "name": "stdout",
          "output_type": "stream",
          "text": [
            "['foo', 'bar', 'quz', 'nex']\n"
          ]
        }
      ],
      "source": [
        "thislist= ['foo', 'bar', 'baz', 'quz', 'nex']\n",
        "thislist.pop(2)\n",
        "print(thislist)"
      ]
    },
    {
      "cell_type": "code",
      "execution_count": 121,
      "metadata": {},
      "outputs": [
        {
          "name": "stdout",
          "output_type": "stream",
          "text": [
            "1\n",
            "5.5\n",
            "5\n",
            "22\n",
            "121\n"
          ]
        }
      ],
      "source": [
        "x= 11\n",
        "y= 2\n",
        "print(x%y)\n",
        "print(x/y)\n",
        "print(x//y)\n",
        "print(x*y)\n",
        "print(x**y)"
      ]
    }
  ],
  "metadata": {
    "colab": {
      "collapsed_sections": [],
      "name": "Latihan09082022.ipynb",
      "provenance": []
    },
    "kernelspec": {
      "display_name": "Python 3.10.6 64-bit",
      "language": "python",
      "name": "python3"
    },
    "language_info": {
      "codemirror_mode": {
        "name": "ipython",
        "version": 3
      },
      "file_extension": ".py",
      "mimetype": "text/x-python",
      "name": "python",
      "nbconvert_exporter": "python",
      "pygments_lexer": "ipython3",
      "version": "3.10.6"
    },
    "vscode": {
      "interpreter": {
        "hash": "afb734500600fd355917ca529030176ea0ca205570884b88f2f6f7d791fd3fbe"
      }
    }
  },
  "nbformat": 4,
  "nbformat_minor": 0
}
