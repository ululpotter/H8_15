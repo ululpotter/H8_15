{
 "cells": [
  {
   "cell_type": "markdown",
   "metadata": {},
   "source": [
    "# Function konversi celcius ke kelvin"
   ]
  },
  {
   "cell_type": "code",
   "execution_count": 24,
   "metadata": {},
   "outputs": [
    {
     "name": "stdout",
     "output_type": "stream",
     "text": [
      "100.0 °C = 373.15 °C\n"
     ]
    }
   ],
   "source": [
    "def converter_c_to_k(conv): \n",
    "    conv_converted = round(float(conv + 273.15),2)\n",
    "    return conv_converted\n",
    "\n",
    "def converter_k_to_c(conv):\n",
    "    conv_converted = round(float(conv - 273.15),2)\n",
    "    return conv_converted\n",
    "\n",
    "# User memberi input\n",
    "conv = float(input('Masukkan suhu Ex(45): '))\n",
    "satuan = input('Masukkan satuan suhu (C/K): ').capitalize()\n",
    "\n",
    "if satuan == 'C':\n",
    "    conv_converted = converter_c_to_k(conv)\n",
    "    satuan_converted = '°C'\n",
    "elif satuan == 'K':\n",
    "    conv_converted = converter_k_to_c(conv)\n",
    "    satuan_converted = '°K'\n",
    "else:\n",
    "    print('Error, Silahkan Masukkan nilai yang benar')\n",
    "\n",
    "\n",
    "print(conv,'°'+ satuan, '=', conv_converted, satuan_converted)\n"
   ]
  },
  {
   "cell_type": "markdown",
   "metadata": {},
   "source": [
    "# Konversi Celcius atau Kelvin ke Fahrenheit"
   ]
  },
  {
   "cell_type": "code",
   "execution_count": 26,
   "metadata": {},
   "outputs": [
    {
     "name": "stdout",
     "output_type": "stream",
     "text": [
      "100.0 °K = -279.67 °F\n"
     ]
    }
   ],
   "source": [
    "def converter_c_to_f(conv):\n",
    "    conv_converted = round(float((conv * 1.8) + 32),2)\n",
    "    return conv_converted\n",
    "\n",
    "def converter_k_to_f(conv):\n",
    "    conv_converted = round(float(((conv - 273.15) * 1.8 + 32)),2)\n",
    "    return conv_converted\n",
    "\n",
    "# User memberi input\n",
    "conv = float(input('Masukkan suhu Ex(45): '))\n",
    "satuan = input('Masukkan satuan suhu (C/K): ').capitalize()\n",
    "\n",
    "if satuan == 'C':\n",
    "    conv_converted = converter_c_to_f(conv)\n",
    "    satuan_converted = '°F'\n",
    "elif satuan == 'K':\n",
    "    conv_converted = converter_k_to_f(conv)\n",
    "    satuan_converted = '°F'\n",
    "else:\n",
    "    print('Error, Satuan yang di masukan hanya C/K')\n",
    "\n",
    "print(conv,'°'+ satuan, '=', conv_converted, satuan_converted)\n"
   ]
  },
  {
   "cell_type": "markdown",
   "metadata": {},
   "source": [
    "# Function konversi Fahrenheit ke Celcius atau Kelvin"
   ]
  },
  {
   "cell_type": "code",
   "execution_count": 30,
   "metadata": {},
   "outputs": [
    {
     "name": "stdout",
     "output_type": "stream",
     "text": [
      "100.0 °FC = 37.78 °C\n"
     ]
    }
   ],
   "source": [
    "def converter_f_to_c(conv):\n",
    "    conv_converted = round(float((conv - 32) * 5/9),2)\n",
    "    return conv_converted\n",
    "\n",
    "def converter_f_to_k(conv):\n",
    "    conv_converted = round(float(((conv - 32) * 5/9 + 273.15)),2)\n",
    "    return conv_converted\n",
    "\n",
    "conv = float(input('Masukkan suhu Ex(45): '))\n",
    "satuan = input('Masukkan satuan suhu tujuan (C/K): ').capitalize()\n",
    "\n",
    "if satuan == 'C':\n",
    "    conv_converted = converter_f_to_c(conv)\n",
    "    satuan_converted = '°C'\n",
    "elif satuan == 'K':\n",
    "    conv_converted = converter_f_to_k(conv)\n",
    "    satuan_converted = '°K'\n",
    "else:\n",
    "    print('Error, Satuan tujuan yang di masukan hanya C/K')\n",
    "\n",
    "print(conv,'°F'+ satuan, '=', conv_converted, satuan_converted)"
   ]
  }
 ],
 "metadata": {
  "kernelspec": {
   "display_name": "Python 3.10.6 64-bit",
   "language": "python",
   "name": "python3"
  },
  "language_info": {
   "codemirror_mode": {
    "name": "ipython",
    "version": 3
   },
   "file_extension": ".py",
   "mimetype": "text/x-python",
   "name": "python",
   "nbconvert_exporter": "python",
   "pygments_lexer": "ipython3",
   "version": "3.10.6"
  },
  "orig_nbformat": 4,
  "vscode": {
   "interpreter": {
    "hash": "afb734500600fd355917ca529030176ea0ca205570884b88f2f6f7d791fd3fbe"
   }
  }
 },
 "nbformat": 4,
 "nbformat_minor": 2
}
